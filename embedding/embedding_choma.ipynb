{
 "cells": [
  {
   "cell_type": "code",
   "execution_count": null,
   "id": "fce40904",
   "metadata": {},
   "outputs": [],
   "source": [
    "%pip install -U sentence-transformers"
   ]
  },
  {
   "cell_type": "code",
   "execution_count": 1,
   "id": "c8677e66",
   "metadata": {},
   "outputs": [],
   "source": [
    "import chromadb\n",
    "\n",
    "client = chromadb.CloudClient(\n",
    "  api_key='ck-HqbGPjsNv7eWuDFf7NjqcFuV4pbdDSk51wtwo5hX6Y9B',\n",
    "  tenant='ee54a044-1346-4b7c-89b7-d7554fb9aacf',\n",
    "  database='RAG-chiangmai-travel'\n",
    ")"
   ]
  },
  {
   "cell_type": "markdown",
   "id": "2b3634f5",
   "metadata": {},
   "source": [
    "# Load Several Json file from Folder"
   ]
  },
  {
   "cell_type": "code",
   "execution_count": 5,
   "id": "4f4cb4ba",
   "metadata": {},
   "outputs": [
    {
     "name": "stdout",
     "output_type": "stream",
     "text": [
      "['วัดพระธาตุดอยสุเทพราชวรวิหาร.json', 'อุทยานแห่งชาติออบหลวง.json', 'ประตูท่าแพ_(Tha_Phae_Gate).json', 'อ่างแก้ว_มหาวิทยาลัยเชียงใหม่.json', 'ลานกางเต็นท์ดอยอ่างขาง_(ม่อนสน).json', 'สวนสนบ่อแก้ว.json', 'ดอยหลวงเชียงดาว.json', 'ปางช้างแม่สา.json', 'จุดสูงสุดแดนสยาม.json', 'พิพิธภัณฑ์ศิลปะร่วมสมัยใหม่เอี่ยม_(MAIIAM_Contemporary_Art_Museum).json', 'วัดดอยสัพพัญญู.json', 'วัดโลกโมฬี.json', 'สนามกีฬาสมโภชเชียงใหม่_700_ปี.json', 'ม่อนแจ่ม.json', 'น้ำพุร้อนสันกำแพง.json', 'Hidden_Village_Chiangmai_หมู่บ้านลึกลับ_เมืองไดโนเสาร์.json', 'อ่างเก็บน้ำห้วยมะนาว.json', 'บ่อน้ำพุร้อนฝาง_(Fang_Hot_Springs).json', 'White_Market.json', 'วัดพระธาตุศรีเมืองปง.json', 'กาดหน้ามอ.json', 'ศาลพระพิฆเนศ_อาเขตเชียงใหม่.json', 'Giant_Trees_Alley_-_อุโมงค์ต้นไม้_เชียงดาว.json', 'ตลาดศิริวัฒนา_(กาดธานินทร์).json', 'วัดราชมณเฑียร.json', 'Maya.json', 'อุทยานแห่งชาติออบขาน.json', 'น้ำตกวชิรธาร.json', 'กิ่วฝิ่น_(Kew_Fin).json', 'บ้านแม่กำปอง.json', 'วัดป่าแดด.json', 'บ้านแม่กลางหลวง.json', 'ม่อนพญานาคราช.json', 'ถนนคนเดินท่าแพ.json', 'จริงใจ_มาร์เก็ต_เชียงใหม่.json', 'วัดเจดีย์หลวงวรวิหาร.json', 'ถ้ำเมืองออน.json', 'วัดลอยเคราะห์.json', 'บ้านข้างวัด.json', 'อนุสาวรีย์ครูบาศรีวิชัย.json', 'วัดพระธาตุดอยคำ.json', 'เชียงใหม่ไนท์บาซาร์.json', 'วัดศรีดอนมูล.json', 'สวนสนแม่แตง_(สวนผลิตเมล็ดพันธุ์ไม้สนสองใบ_).json', 'สวนพฤกษศาสตร์สมเด็จพระนางเจ้าสิริกิติ์.json', 'วัดพันเตา.json', 'คลองแม่ข่า_ระแกง.json', 'สวนสัตว์เชียงใหม่.json', 'กาดฝรั่ง_(Kad_Farang_Village).json', 'สถานีรถไฟเชียงใหม่.json', 'น้ำตกแม่สา.json', 'วัดเจ็ดยอด_(วัดโพธารามมหาวิหาร).json', 'วัดพระธาตุศรีจอมทองวรวิหาร.json', 'วัดแสนฝาง.json', 'Nim_City_Community_Mall.json', 'น้ำตกแม่ยะ.json', 'ฉำฉา(Chamcha)_market_(ฉำฉา).json', 'Hinoki_Land_(ฮิโนกิแลนด์)_ไชยปราการ.json', 'สถานีวิจัยเกษตรที่สูงขุนช่างเคี่ยน.json', 'วัดทรายมูลเมือง.json', 'วัดชัยมงคล.json', 'น้ำตกแม่กำปอง_(Mae_Kampong_Waterfall).json', 'ตลาดสันป่าข่อย_(San_Pa_Khoi_Market).json', 'เส้นทางศึกษาธรรมชาติกิ่วแม่ปาน.json', 'บ้านม้งดอยปุย.json', 'น้ำแม่ออกฮู.json', 'One_Nimman_(วันนิมมาน).json', 'Atv_Mae_Khanin_Nuea.json', 'ตลาดต้นพยอม.json', 'อุทยานแห่งชาติดอยผ้าห่มปก_(Doi_Pha_Hom_Pok_National_Park).json', 'อนุสาวรีย์สามกษัตริย์.json', 'ศูนย์ประชุมนานาชาติเชียงใหม่.json', 'ห้วยตึงเฒ่า_(คิงคองยักษ์).json', 'อุทยานแห่งชาติดอยอินทนนท์.json', 'พิพิธภัณฑ์ภาพจิตรกรรม_3_มิติ_เชียงใหม่_(Art_in_Paradise_Chiang_Mai).json', 'null.json', 'ท่าอากาศยานนานาชาติเชียงใหม่_(สนามบินเชียงใหม่).json', 'สำนักสงฆ์ถ้ำผาปล่อง.json', 'สถานีเกษตรหลวงอินทนนท์.json', 'สถานีวิจัยเกษตรที่สูงสันป่าเกี๊ยะ.json', 'ลานเนินนุ่ม.json', 'ตลาดนัดขนมปัง_นานาจังเกิ้ล_(บ้านสวนไผ่ล้อม).json', 'วัดอุโมงค์_(วัดสวนพุทธธรรม).json', 'วัดสวนดอก.json', 'DutchFarm_ดัทช์ฟาร์ม_ฟาร์มม้าแคระ_เชียงใหม่________OFFICIAL.json', 'ผาช่อ_(Pha_Chor).json', 'วัดต้นเกว๋น.json', 'วัดพระสิงห์วรมหาวิหาร_(วัดพระสิงห์).json', 'วัดท่าตอน_(พระอารามหลวง).json', 'วัดเด่นสะหลีศรีเมืองแกน_(วัดบ้านเด่น).json', 'ศูนย์พัฒนาโครงการหลวงทุ่งเริง(สวนกุหลาบหลวงห้วยผักไผ่).json', 'Central_Festival_Chiang_Maiเชียงใหม่.json', 'สวนเฉลิมพระเกียรติ_82_พรรษา.json', 'ม่อนกุเวร_เชียงใหม่.json', 'วัดพระธาตุดอยคำ_(วัดสุวรรณบรรพต).json', 'สวน_80_ดอยอ่างขาง.json', 'หออินทขีล_ศาลหลักเมืองเชียงใหม่.json', 'ตลาดวโรรส_(กาดหลวง).json', 'อุทยานแห่งชาติดอยสุเทพ-ปุย.json', 'วัดศรีสุพรรณ_เชียงใหม่.json', 'ไร่ชาลุงเดช.json', 'วัดผาลาด.json', 'กาดต๋องตึง_บ้านริมน้ำ.json', 'วัดอรัญญวิเวก.json', 'Pongyang_Jungle_Coaster_Zipline_Camp&Resort_(โป่งแยงจังเกิ้ลโคสเตอร์และซิปไลน์).json', 'ถนนคนเดินสันกำแพง.json', 'สถานีเกษตรหลวงอ่างขาง.json', 'สวนส้มจินจู_JINJU_the_orange_farm.json']\n"
     ]
    }
   ],
   "source": [
    "import json, os\n",
    "import chromadb\n",
    "from sentence_transformers import SentenceTransformer\n",
    "\n",
    "path_to_json='/Users/ploy/Programming/thesis/data/json-scrape/attraction'\n",
    "# โหลด JSON file\n",
    "json_files = [pos_json for pos_json in os.listdir(path_to_json) if pos_json.endswith('.json')]\n",
    "print(json_files)"
   ]
  },
  {
   "cell_type": "markdown",
   "id": "7f5e5e5e",
   "metadata": {},
   "source": [
    "## Chunking File"
   ]
  },
  {
   "cell_type": "code",
   "execution_count": null,
   "id": "dd71dc21",
   "metadata": {},
   "outputs": [],
   "source": []
  }
 ],
 "metadata": {
  "kernelspec": {
   "display_name": "venv",
   "language": "python",
   "name": "python3"
  },
  "language_info": {
   "codemirror_mode": {
    "name": "ipython",
    "version": 3
   },
   "file_extension": ".py",
   "mimetype": "text/x-python",
   "name": "python",
   "nbconvert_exporter": "python",
   "pygments_lexer": "ipython3",
   "version": "3.12.0"
  }
 },
 "nbformat": 4,
 "nbformat_minor": 5
}
