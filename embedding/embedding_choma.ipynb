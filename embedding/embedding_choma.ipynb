{
 "cells": [
  {
   "cell_type": "code",
   "execution_count": 95,
   "id": "c8677e66",
   "metadata": {},
   "outputs": [],
   "source": [
    "import chromadb\n",
    "\n",
    "client = chromadb.CloudClient(\n",
    "  api_key='ck-HqbGPjsNv7eWuDFf7NjqcFuV4pbdDSk51wtwo5hX6Y9B',\n",
    "  tenant='ee54a044-1346-4b7c-89b7-d7554fb9aacf',\n",
    "  database='RAG-chiangmai-travel'\n",
    ")"
   ]
  },
  {
   "cell_type": "markdown",
   "id": "2b3634f5",
   "metadata": {},
   "source": [
    "# Load Several Json file from Folder"
   ]
  },
  {
   "cell_type": "code",
   "execution_count": null,
   "id": "468dfcb6",
   "metadata": {},
   "outputs": [],
   "source": [
    "import os\n",
    "import json\n",
    "import jq\n",
    "from dotenv import load_dotenv\n",
    "from langchain_community.document_loaders import JSONLoader\n",
    "from langchain_huggingface.embeddings import HuggingFaceEmbeddings\n",
    "from langchain_chroma import Chroma\n",
    "import chromadb\n",
    "from chromadb.config import Settings\n",
    "from sentence_transformers import SentenceTransformer\n"
   ]
  },
  {
   "cell_type": "markdown",
   "id": "7f5e5e5e",
   "metadata": {},
   "source": [
    "## Embedding"
   ]
  },
  {
   "cell_type": "code",
   "execution_count": 123,
   "id": "24c01537",
   "metadata": {},
   "outputs": [
    {
     "data": {
      "text/plain": [
       "True"
      ]
     },
     "execution_count": 123,
     "metadata": {},
     "output_type": "execute_result"
    }
   ],
   "source": [
    "from pprint import pprint\n",
    "load_dotenv()"
   ]
  },
  {
   "cell_type": "code",
   "execution_count": 152,
   "id": "8370cace",
   "metadata": {},
   "outputs": [
    {
     "name": "stdout",
     "output_type": "stream",
     "text": [
      "Found 36 JSON files: ['Chiang_Dao_Good_View_Resort.json', 'Flora_Creek.json', 'Onsen_at_Moncham.json', 'Meliá_Chiang_Mai.json', 'The_Inside_House.json', 'โรงแรม_ลานนา_ดุสิตา_ริเวอร์ไซด์_บูทิค_รีสอร์ท_(Lanna_Dusita_Riverside_Boutique_Resort).json', 'ยู_นิมมาน_เชียงใหม่_(U_Nimman_Chiang_Mai).json', 'วินทรี_ซิตี้_รีสอร์ท_เชียงใหม่_(Wintree_City_Resort_Chiangmai).json', 'เก๊าไม้ล้านนารีสอร์ท.json', 'Hop_In_Chiang_Mai_Airport.json', 'โรงแรมศาลาล้านนา_(Sala_Lanna_Hotel).json', 'ปานวิมานเชียงใหม่_(Panviman_Chiangmai_Spa_Resort).json', 'Buri_Siri_Boutique_Hotel.json', 'ธรรมดาโฮมสเตย์.json', 'โรงแรมบุรีศรีปิง_ริเวอร์ไซด์_รีสอร์ท_แอนด์_สปา.json', 'บ้านระเบียงจำปา.json', 'โรงแรมดาราเทวีเชียงใหม่_(Dara_Thewi_Chiang_Mai_Hotel).json', 'Budecha_(บูเดอช่า_บ้านใกล้ชิดดวงดาว).json', 'ฮิมดอยโฮม.json', 'ม่อนเหนือโฮมสเตย์_(Monnuea_Homestay).json', 'Intercontinental_Chiang_Mai_Mae_Ping_Hotel.json', 'ม่อนอิงดาวรีสอร์ท_(Mon_Ing_Dao_Resort).json', 'บ้านระเบียงดาว.json', 'โรงแรมเลอเมอริเดียน_เชียงใหม่_(Le_Meridien_Hotel_Chiang_Mai).json', 'Chiang_Mai_Marriott_Hotel.json', 'โรงแรมโฟร์ซีซั่นรีสอร์ทเชียงใหม่_(Four_Season_Resort_Chiang_Mai).json', 'โรงแรมเหอลี่_(Herry_Hotel).json', 'เดอะแกรนด์ณภัทร_(The_Grand_Naphat).json', 'โรงแรมจีทูบูติคโฮเต็ล_(G_Two_Boutique_Hotel).json', 'รักษ์ฝางรีสอร์ต_(RakFang_Resort).json', 'โรงแรมแชงกรี-ลาเชียงใหม่_(Shangri-La_Hotel,_Chiang_Mai).json', 'รินรดารีสอร์ท_(Rinrada_Resort).json', 'Zen_Zen_Pool_Villa_Chiangmai.json', 'Raya_Heritage.json', 'วีรันดา_ไฮ_รีสอร์ท_เชียงใหม่_(Veranda_High_Resort_Chiang_Mai).json', 'ม่อนล้านวิว_ม่อนล้านวิว.json']\n"
     ]
    }
   ],
   "source": [
    "path_to_json = \"/Users/ploy/Programming/thesis/data/json-scrape/hotel\"  # Directory containing your JSON files\n",
    "collection_name = \"hotel\"\n",
    "\n",
    "# Get list of JSON files\n",
    "json_files = [f for f in os.listdir(path_to_json) if f.endswith('.json')]\n",
    "print(f\"Found {len(json_files)} JSON files: {json_files}\")\n",
    "\n",
    "# Cell 5: Initialize embedding model\n",
    "# Using a Thai-compatible embedding model\n",
    "embedding_model = HuggingFaceEmbeddings(\n",
    "    model_name=\"sentence-transformers/paraphrase-multilingual-MiniLM-L12-v2\",\n",
    "    model_kwargs={'device': 'cpu'},  # Use 'cuda' if you have GPU\n",
    "    encode_kwargs={'normalize_embeddings': True}\n",
    ")"
   ]
  },
  {
   "cell_type": "code",
   "execution_count": 141,
   "id": "41495eea",
   "metadata": {},
   "outputs": [],
   "source": [
    "def process_travel_json(file_path):\n",
    "    \"\"\"\n",
    "    Custom function to process travel data JSON files\n",
    "    \"\"\"\n",
    "    documents = []\n",
    "\n",
    "    with open(file_path, 'r', encoding='utf-8') as f:\n",
    "        data = json.load(f)\n",
    "\n",
    "    # Handle both single object and array of objects\n",
    "    if isinstance(data, dict):\n",
    "        data = [data]\n",
    "\n",
    "    for item in data:\n",
    "        # Create text content by combining all fields\n",
    "        text_parts = []\n",
    "\n",
    "        # Add name\n",
    "        if 'name' in item and item['name']:\n",
    "            text_parts.append(f\"ชื่อ: {item['name']}\")\n",
    "\n",
    "        # Add address\n",
    "        if 'address' in item and item['address']:\n",
    "            text_parts.append(f\"ที่อยู่: {item['address']}\")\n",
    "\n",
    "        # Add opening hours\n",
    "        if 'store_opening_and_closing' in item and item['store_opening_and_closing']:\n",
    "            text_parts.append(f\"เวลาเปิด-ปิด: {item['store_opening_and_closing']}\")\n",
    "\n",
    "        # Add rating\n",
    "        if 'Review_rating' in item and item['Review_rating']:\n",
    "            text_parts.append(f\"คะแนนรีวิว: {item['Review_rating']}\")\n",
    "\n",
    "        # Add comment/review\n",
    "        if 'Comment_review' in item and item['Comment_review']:\n",
    "            text_parts.append(f\"รีวิว: {item['Comment_review']}\")\n",
    "\n",
    "        # Combine all text\n",
    "        page_content = \"\\n\".join(text_parts)\n",
    "\n",
    "        # Create metadata\n",
    "        metadata = {\n",
    "            'source': file_path,\n",
    "            'name': item.get('name', ''),\n",
    "            'address': item.get('address', ''),\n",
    "            'rating': item.get('Review_rating', ''),\n",
    "            'opening_hours': item.get('store_opening_and_closing', '')\n",
    "        }\n",
    "\n",
    "        # Create document object\n",
    "        from langchain.schema import Document\n",
    "        doc = Document(page_content=page_content, metadata=metadata)\n",
    "        documents.append(doc)\n",
    "\n",
    "    return documents"
   ]
  },
  {
   "cell_type": "code",
   "execution_count": 142,
   "id": "8e9388f4",
   "metadata": {},
   "outputs": [
    {
     "name": "stdout",
     "output_type": "stream",
     "text": [
      "Processing JSON files...\n",
      "Processing: สวนสนุก_FA_POP_By_FUNplanet_(สวนสนุก_ฟันแพลนเน็ต).json\n",
      "  - Loaded 1 documents from สวนสนุก_FA_POP_By_FUNplanet_(สวนสนุก_ฟันแพลนเน็ต).json\n",
      "Processing: วัดศรีประดิษฐ์_(วัดศรีประดิษฐ์_ป่าคา).json\n",
      "  - Loaded 1 documents from วัดศรีประดิษฐ์_(วัดศรีประดิษฐ์_ป่าคา).json\n",
      "Processing: น้ำตกศรีสังวาลย์.json\n",
      "  - Loaded 1 documents from น้ำตกศรีสังวาลย์.json\n",
      "Processing: เพลินฤดี_ไนท์_มาร์เก็ต_(เพลินฤดี).json\n",
      "  - Loaded 1 documents from เพลินฤดี_ไนท์_มาร์เก็ต_(เพลินฤดี).json\n",
      "Processing: สำนักปฏิบัติธรรมดอยเทพเนรมิต.json\n",
      "  - Loaded 1 documents from สำนักปฏิบัติธรรมดอยเทพเนรมิต.json\n",
      "Processing: สถานีขนส่งเชียงดาว.json\n",
      "  - Loaded 1 documents from สถานีขนส่งเชียงดาว.json\n",
      "Processing: ศูนย์วิจัยข้าวสะเมิง.json\n",
      "  - Loaded 1 documents from ศูนย์วิจัยข้าวสะเมิง.json\n",
      "Processing: วัดดอยอุดมธรรม.json\n",
      "  - Loaded 1 documents from วัดดอยอุดมธรรม.json\n",
      "Processing: ศูนย์พัฒนาโครงการหลวง_ขุนแปะ.json\n",
      "  - Loaded 1 documents from ศูนย์พัฒนาโครงการหลวง_ขุนแปะ.json\n",
      "Processing: สวนสัตว์แมลงสยาม.json\n",
      "  - Loaded 1 documents from สวนสัตว์แมลงสยาม.json\n",
      "Processing: น้ำตกแม่วาง.json\n",
      "  - Loaded 1 documents from น้ำตกแม่วาง.json\n",
      "Processing: ไร่สตรอว์เบอร์รีบ้านนอแล.json\n",
      "  - Loaded 1 documents from ไร่สตรอว์เบอร์รีบ้านนอแล.json\n",
      "Processing: วัดแสนทอง.json\n",
      "  - Loaded 1 documents from วัดแสนทอง.json\n",
      "Processing: สวนสาธารณะเทศบาลสันทรายหลวง.json\n",
      "  - Loaded 1 documents from สวนสาธารณะเทศบาลสันทรายหลวง.json\n",
      "Processing: ทุ่งดอกเก็กฮวย_ไร่นายพล.json\n",
      "  - Loaded 1 documents from ทุ่งดอกเก็กฮวย_ไร่นายพล.json\n",
      "Processing: วัดศรีดอนไชย.json\n",
      "  - Loaded 1 documents from วัดศรีดอนไชย.json\n",
      "Processing: วัดบุพพาราม.json\n",
      "  - Loaded 1 documents from วัดบุพพาราม.json\n",
      "Processing: สำนักวิปัสสนาวัดพระธาตุศรีสมเด็จพระพุทธชินวงศ์.json\n",
      "  - Loaded 1 documents from สำนักวิปัสสนาวัดพระธาตุศรีสมเด็จพระพุทธชินวงศ์.json\n",
      "Processing: น้ำตกบัวตอง_(Bua_Tong_Waterfall).json\n",
      "  - Loaded 1 documents from น้ำตกบัวตอง_(Bua_Tong_Waterfall).json\n",
      "Processing: อ่างเก็บน้ำห้วยลาน.json\n",
      "  - Loaded 1 documents from อ่างเก็บน้ำห้วยลาน.json\n",
      "Processing: ทูบเทรค_วอเตอร์พาร์ค_เชียงใหม่_(ทูบเทรควอเตอร์พาร์คเชียงใหม่).json\n",
      "  - Loaded 1 documents from ทูบเทรค_วอเตอร์พาร์ค_เชียงใหม่_(ทูบเทรควอเตอร์พาร์คเชียงใหม่).json\n",
      "Processing: หมู่บ้านทำร่มบ่อสร้าง.json\n",
      "  - Loaded 1 documents from หมู่บ้านทำร่มบ่อสร้าง.json\n",
      "Processing: สวนส้มเปาเปา.json\n",
      "  - Loaded 1 documents from สวนส้มเปาเปา.json\n",
      "Processing: วัดพุทธเอ้น.json\n",
      "  - Loaded 1 documents from วัดพุทธเอ้น.json\n",
      "Processing: โป่งเดือดป่าแป๋.json\n",
      "  - Loaded 1 documents from โป่งเดือดป่าแป๋.json\n",
      "Processing: Rustic_Market.json\n",
      "  - Loaded 1 documents from Rustic_Market.json\n",
      "Processing: วัดถ้ำปากเปียง_(Wat_Tham_Pak_Piang).json\n",
      "  - Loaded 1 documents from วัดถ้ำปากเปียง_(Wat_Tham_Pak_Piang).json\n",
      "Processing: ตลาดต้นลำไย.json\n",
      "  - Loaded 1 documents from ตลาดต้นลำไย.json\n",
      "Processing: โครงการชลประทานเชียงใหม่_สันเขื่อน700ปี_(อ่างเก็บน้ำแม่จอกหลวง).json\n",
      "  - Loaded 1 documents from โครงการชลประทานเชียงใหม่_สันเขื่อน700ปี_(อ่างเก็บน้ำแม่จอกหลวง).json\n",
      "Processing: พระมหาธาตุเจดีย์นภพลภูมิสิริ_(The_Great_Holy_Relics_Pagoda).json\n",
      "  - Loaded 1 documents from พระมหาธาตุเจดีย์นภพลภูมิสิริ_(The_Great_Holy_Relics_Pagoda).json\n",
      "Processing: พระธาตุเมทนีดล_พระธาตุนภพลภูมิสิริ_(พระธาตุเมธนีดล_พระธาตุนภพลภูมิสิริ).json\n",
      "  - Loaded 1 documents from พระธาตุเมทนีดล_พระธาตุนภพลภูมิสิริ_(พระธาตุเมธนีดล_พระธาตุนภพลภูมิสิริ).json\n",
      "Processing: ทุ่งไฮเดรนเยีย_โครงการหลวงขุนแปะ.json\n",
      "  - Loaded 1 documents from ทุ่งไฮเดรนเยีย_โครงการหลวงขุนแปะ.json\n",
      "Processing: แก่งกึ๊ด.json\n",
      "  - Loaded 1 documents from แก่งกึ๊ด.json\n",
      "Processing: เส้นทางเดินศึกษาธรรมชาติผาลาด.json\n",
      "  - Loaded 1 documents from เส้นทางเดินศึกษาธรรมชาติผาลาด.json\n",
      "Processing: แมวดอย_แกลลอนี่_ณแม่กำปอง_(แมวดอยแกลลอรี่).json\n",
      "  - Loaded 1 documents from แมวดอย_แกลลอนี่_ณแม่กำปอง_(แมวดอยแกลลอรี่).json\n",
      "Processing: หอมแผ่นดินฟาร์ม.json\n",
      "  - Loaded 1 documents from หอมแผ่นดินฟาร์ม.json\n",
      "Processing: ดอยค้ำฟ้า.json\n",
      "  - Loaded 1 documents from ดอยค้ำฟ้า.json\n",
      "Processing: หอศิลปวัฒนธรรมเมืองเชียงใหม่.json\n",
      "  - Loaded 1 documents from หอศิลปวัฒนธรรมเมืองเชียงใหม่.json\n",
      "Processing: น้ำพุร้อนโป่งกวาว_(Pong_Kwaw_Hot_Springs).json\n",
      "  - Loaded 1 documents from น้ำพุร้อนโป่งกวาว_(Pong_Kwaw_Hot_Springs).json\n",
      "Processing: สวนส้มธนาธร_(Thanathorn_Orange_Garden).json\n",
      "  - Loaded 1 documents from สวนส้มธนาธร_(Thanathorn_Orange_Garden).json\n",
      "Processing: อุทยานดาราศาสตร์สิรินธร_(อุทธยานดาราศาสตร์).json\n",
      "  - Loaded 1 documents from อุทยานดาราศาสตร์สิรินธร_(อุทธยานดาราศาสตร์).json\n",
      "Processing: สถานธรรมไท่หลินฝอเอวี้ยน.json\n",
      "  - Loaded 1 documents from สถานธรรมไท่หลินฝอเอวี้ยน.json\n",
      "Processing: หอประวัติศาสตร์เชียงใหม่.json\n",
      "  - Loaded 1 documents from หอประวัติศาสตร์เชียงใหม่.json\n",
      "Processing: โครงการ_Think_Park.json\n",
      "  - Loaded 1 documents from โครงการ_Think_Park.json\n",
      "Processing: ทะเลสาบดอยเต่า.json\n",
      "  - Loaded 1 documents from ทะเลสาบดอยเต่า.json\n",
      "Processing: สวนบอนไซอ่างขาง.json\n",
      "  - Loaded 1 documents from สวนบอนไซอ่างขาง.json\n",
      "Processing: พระธาตุดอยแก้ว_อมก๋อย.json\n",
      "  - Loaded 1 documents from พระธาตุดอยแก้ว_อมก๋อย.json\n",
      "Processing: ทุ่งดอกเก๊กฮวย_บ้านอมลอง.json\n",
      "  - Loaded 1 documents from ทุ่งดอกเก๊กฮวย_บ้านอมลอง.json\n",
      "Processing: Premium_Outlet_เชียงใหม่_(พรีเมี่ยมเอาท์เล็ท_เชียงใหม่).json\n",
      "  - Loaded 1 documents from Premium_Outlet_เชียงใหม่_(พรีเมี่ยมเอาท์เล็ท_เชียงใหม่).json\n",
      "Processing: Jing_Jai_Hobby_&_Rustic_Market_Chiang_Mai.json\n",
      "  - Loaded 1 documents from Jing_Jai_Hobby_&_Rustic_Market_Chiang_Mai.json\n",
      "Processing: หมู่บ้านยาง_วิถีจีนยูนนาน.json\n",
      "  - Loaded 1 documents from หมู่บ้านยาง_วิถีจีนยูนนาน.json\n",
      "Processing: วัดศิริชัยนิมิตร.json\n",
      "  - Loaded 1 documents from วัดศิริชัยนิมิตร.json\n",
      "Processing: น้ำตกตาดหมอก.json\n",
      "  - Loaded 1 documents from น้ำตกตาดหมอก.json\n",
      "Processing: ตลาดนัด_Big_C_ดอนจั่น.json\n",
      "  - Loaded 1 documents from ตลาดนัด_Big_C_ดอนจั่น.json\n",
      "Processing: วัดเจดีย์งาม.json\n",
      "  - Loaded 1 documents from วัดเจดีย์งาม.json\n",
      "Processing: วัดปันเสา_(วัดปันเส่า).json\n",
      "  - Loaded 1 documents from วัดปันเสา_(วัดปันเส่า).json\n",
      "Processing: ศรีประกาศ.json\n",
      "  - Loaded 1 documents from ศรีประกาศ.json\n",
      "Processing: ตลาดทองคำ_กาดทองคำ_สันป่าข่อย.json\n",
      "  - Loaded 1 documents from ตลาดทองคำ_กาดทองคำ_สันป่าข่อย.json\n",
      "Processing: กาแลไนท์บาร์ซาร์_เชียงใหม่.json\n",
      "  - Loaded 1 documents from กาแลไนท์บาร์ซาร์_เชียงใหม่.json\n",
      "Processing: เชียงใหม่วนัสนันท์​.json\n",
      "  - Loaded 1 documents from เชียงใหม่วนัสนันท์​.json\n",
      "Processing: ตลาดสามแยกสันทราย_(Sam_Yaek_Market).json\n",
      "  - Loaded 1 documents from ตลาดสามแยกสันทราย_(Sam_Yaek_Market).json\n",
      "Processing: อ่างเก็บน้ำห้วยลึก_(โครงการหลวงห้วยลึก).json\n",
      "  - Loaded 1 documents from อ่างเก็บน้ำห้วยลึก_(โครงการหลวงห้วยลึก).json\n",
      "Processing: ตลาดม้งบ้านห้วยลึก​.json\n",
      "  - Loaded 1 documents from ตลาดม้งบ้านห้วยลึก​.json\n",
      "Processing: ย่านนิมมานเหมินท์.json\n",
      "  - Loaded 1 documents from ย่านนิมมานเหมินท์.json\n",
      "Processing: ไร่สตรอเบอรี่ปลายฟ้า.json\n",
      "  - Loaded 1 documents from ไร่สตรอเบอรี่ปลายฟ้า.json\n",
      "Processing: สวนลุงรน_(Uncle_Ron's_Garden).json\n",
      "  - Loaded 1 documents from สวนลุงรน_(Uncle_Ron's_Garden).json\n",
      "Processing: วัดเจดีย์เหลี่ยม.json\n",
      "  - Loaded 1 documents from วัดเจดีย์เหลี่ยม.json\n",
      "Processing: อุทยานแห่งชาติแม่ตะไคร้.json\n",
      "  - Loaded 1 documents from อุทยานแห่งชาติแม่ตะไคร้.json\n",
      "Processing: พระมหาธาตุนภเมทนีดล.json\n",
      "  - Loaded 1 documents from พระมหาธาตุนภเมทนีดล.json\n",
      "Processing: ม่อนวิวงาม_(Mon_View_Ngam).json\n",
      "  - Loaded 1 documents from ม่อนวิวงาม_(Mon_View_Ngam).json\n",
      "Processing: บ้านปลาคาร์ฟ_เชียงใหม่.json\n",
      "  - Loaded 1 documents from บ้านปลาคาร์ฟ_เชียงใหม่.json\n",
      "Processing: ศูนย์พัฒนาโครงการหลวง_ม่อนเงาะ.json\n",
      "  - Loaded 1 documents from ศูนย์พัฒนาโครงการหลวง_ม่อนเงาะ.json\n",
      "Processing: วัดดอยแท่นพระผาหลวง.json\n",
      "  - Loaded 1 documents from วัดดอยแท่นพระผาหลวง.json\n",
      "Processing: พิพิธภัณฑสถานแห่งชาติเชียงใหม่_(Chiang_Mai_National_Museum).json\n",
      "  - Loaded 1 documents from พิพิธภัณฑสถานแห่งชาติเชียงใหม่_(Chiang_Mai_National_Museum).json\n",
      "Processing: หมู่บ้านขอบด้ง_(Kob_Dong_Village).json\n",
      "  - Loaded 1 documents from หมู่บ้านขอบด้ง_(Kob_Dong_Village).json\n",
      "Processing: วัดป่าธาราภิรมย์.json\n",
      "  - Loaded 1 documents from วัดป่าธาราภิรมย์.json\n",
      "Processing: ลานเสี่ยว_(Lansieow_Freeative_Art_Space).json\n",
      "  - Loaded 1 documents from ลานเสี่ยว_(Lansieow_Freeative_Art_Space).json\n",
      "Processing: ลานกางเต็นท์ดงสน_อุทยานแห่งชาติดอยอินทนนท์.json\n",
      "  - Loaded 1 documents from ลานกางเต็นท์ดงสน_อุทยานแห่งชาติดอยอินทนนท์.json\n",
      "Processing: ธุดงคสถานล้านนา.json\n",
      "  - Loaded 1 documents from ธุดงคสถานล้านนา.json\n",
      "Processing: น้ำตกสิริภูมิ.json\n",
      "  - Loaded 1 documents from น้ำตกสิริภูมิ.json\n",
      "Processing: ศูนย์บริการนักท่องเที่ยวอุทยานฯดอยอินทนนท์_Inthanon_National_Park_Visitor_Center.json\n",
      "  - Loaded 1 documents from ศูนย์บริการนักท่องเที่ยวอุทยานฯดอยอินทนนท์_Inthanon_National_Park_Visitor_Center.json\n",
      "Processing: น้ำตกแม่สะป๊อก.json\n",
      "  - Loaded 1 documents from น้ำตกแม่สะป๊อก.json\n",
      "Processing: ป่าสนวัดจันทร์_โครงการหลวงบ้านวัดจันทร์_(ศูนย์พัฒนาโครงการหลวงวัดจันทร์).json\n",
      "  - Loaded 1 documents from ป่าสนวัดจันทร์_โครงการหลวงบ้านวัดจันทร์_(ศูนย์พัฒนาโครงการหลวงวัดจันทร์).json\n",
      "Processing: วัดอู่ทรายคำ.json\n",
      "  - Loaded 1 documents from วัดอู่ทรายคำ.json\n",
      "Processing: Pang_Pao_Beach.json\n",
      "  - Loaded 1 documents from Pang_Pao_Beach.json\n",
      "Processing: พิพิธภัณฑ์พื้นถิ่นล้านนา.json\n",
      "  - Loaded 1 documents from พิพิธภัณฑ์พื้นถิ่นล้านนา.json\n",
      "Processing: ตลาดน้ำโท้ง.json\n",
      "  - Loaded 1 documents from ตลาดน้ำโท้ง.json\n",
      "Processing: เวียงกุมกาม.json\n",
      "  - Loaded 1 documents from เวียงกุมกาม.json\n",
      "Processing: สวนส้มโชคสมบูรณ์.json\n",
      "  - Loaded 1 documents from สวนส้มโชคสมบูรณ์.json\n",
      "Processing: พิพิธภัณฑ์โรงงานหลวงที่_1.json\n",
      "  - Loaded 1 documents from พิพิธภัณฑ์โรงงานหลวงที่_1.json\n",
      "Processing: หมู่บ้านกะเหรี่ยงคอยาว_บ้านโต้งหลวง_(Karen_Long_Neck_Village).json\n",
      "  - Loaded 1 documents from หมู่บ้านกะเหรี่ยงคอยาว_บ้านโต้งหลวง_(Karen_Long_Neck_Village).json\n",
      "Processing: น้ำตกห้วยทรายเหลือง_(Huai_Sai_Luang_Waterfall).json\n",
      "  - Loaded 1 documents from น้ำตกห้วยทรายเหลือง_(Huai_Sai_Luang_Waterfall).json\n",
      "Processing: วัดบ้านใหม่ปางเติม.json\n",
      "  - Loaded 1 documents from วัดบ้านใหม่ปางเติม.json\n",
      "Processing: น้ำตกมณฑาธาร.json\n",
      "  - Loaded 1 documents from น้ำตกมณฑาธาร.json\n",
      "Processing: ศูนย์อุตสาหกรรมทำร่ม.json\n",
      "  - Loaded 1 documents from ศูนย์อุตสาหกรรมทำร่ม.json\n",
      "Processing: วัดดวงดี.json\n",
      "  - Loaded 1 documents from วัดดวงดี.json\n",
      "Processing: จุดชมวิวสาละวิน_2.json\n",
      "  - Loaded 1 documents from จุดชมวิวสาละวิน_2.json\n",
      "Processing: พิพิธภัณฑ์เรือนโบราณ.json\n",
      "  - Loaded 1 documents from พิพิธภัณฑ์เรือนโบราณ.json\n",
      "Processing: วัดดับภัย.json\n",
      "  - Loaded 1 documents from วัดดับภัย.json\n",
      "\n",
      "Total loaded: 99 documents from JSON files.\n"
     ]
    }
   ],
   "source": [
    "all_documents = []\n",
    "\n",
    "print(\"Processing JSON files...\")\n",
    "for file in json_files:\n",
    "    file_path = os.path.join(path_to_json, file)\n",
    "    print(f\"Processing: {file}\")\n",
    "\n",
    "    try:\n",
    "        documents = process_travel_json(file_path)\n",
    "        all_documents.extend(documents)\n",
    "        print(f\"  - Loaded {len(documents)} documents from {file}\")\n",
    "    except Exception as e:\n",
    "        print(f\"  - Error processing {file}: {str(e)}\")\n",
    "\n",
    "print(f\"\\nTotal loaded: {len(all_documents)} documents from JSON files.\")\n"
   ]
  },
  {
   "cell_type": "code",
   "execution_count": 143,
   "id": "433a561b",
   "metadata": {},
   "outputs": [
    {
     "name": "stdout",
     "output_type": "stream",
     "text": [
      "Sample document:\n",
      "Content: ชื่อ: สวนสนุก FA POP By FUNplanet (สวนสนุก ฟันแพลนเน็ต)\n",
      "ที่อยู่: 2, ถนนมหิดล, ตำบลป่าแดด, เชียงใหม่, จ.เชียงใหม่, 50100, ประเทศไทย เชียงใหม่\n",
      "เวลาเปิด-ปิด: ปิดอยู่\n",
      "คะแนนรีวิว: 5.0\n",
      "รีวิว: สวนสนุก FA POP...\n",
      "Metadata: {'source': '/Users/ploy/Programming/thesis/data/json-scrape/attraction/สวนสนุก_FA_POP_By_FUNplanet_(สวนสนุก_ฟันแพลนเน็ต).json', 'name': 'สวนสนุก FA POP By FUNplanet (สวนสนุก ฟันแพลนเน็ต)', 'address': '2, ถนนมหิดล, ตำบลป่าแดด, เชียงใหม่, จ.เชียงใหม่, 50100, ประเทศไทย เชียงใหม่', 'rating': '5.0', 'opening_hours': 'ปิดอยู่'}\n"
     ]
    }
   ],
   "source": [
    "if all_documents:\n",
    "    print(\"Sample document:\")\n",
    "    print(f\"Content: {all_documents[0].page_content[:200]}...\")\n",
    "    print(f\"Metadata: {all_documents[0].metadata}\")"
   ]
  },
  {
   "cell_type": "code",
   "execution_count": 144,
   "id": "844b05ab",
   "metadata": {},
   "outputs": [
    {
     "name": "stdout",
     "output_type": "stream",
     "text": [
      "Connected to ChromaDB Cloud successfully!\n",
      "Server version: 1.0.0\n"
     ]
    }
   ],
   "source": [
    "try:\n",
    "    # Initialize ChromaDB client for cloud\n",
    "    client = chromadb.CloudClient(\n",
    "  api_key='ck-HqbGPjsNv7eWuDFf7NjqcFuV4pbdDSk51wtwo5hX6Y9B',\n",
    "  tenant='ee54a044-1346-4b7c-89b7-d7554fb9aacf',\n",
    "  database='RAG-chiangmai-travel'\n",
    ")\n",
    "\n",
    "    print(\"Connected to ChromaDB Cloud successfully!\")\n",
    "    print(f\"Server version: {client.get_version()}\")\n",
    "\n",
    "except Exception as e:\n",
    "    print(f\"Failed to connect to ChromaDB Cloud: {str(e)}\")\n",
    "    print(\"Please check your credentials and connection settings.\")"
   ]
  },
  {
   "cell_type": "code",
   "execution_count": 145,
   "id": "e3a49d7f",
   "metadata": {},
   "outputs": [
    {
     "name": "stdout",
     "output_type": "stream",
     "text": [
      "Found existing collection: attraction\n",
      "Collection count: 86\n"
     ]
    }
   ],
   "source": [
    "try:\n",
    "    # Try to get existing collection\n",
    "    try:\n",
    "        collection = client.get_collection(name=collection_name)\n",
    "        print(f\"Found existing collection: {collection_name}\")\n",
    "        print(f\"Collection count: {collection.count()}\")\n",
    "    except:\n",
    "        # Create new collection if it doesn't exist\n",
    "        collection = client.create_collection(\n",
    "            name=collection_name,\n",
    "            metadata={\"description\": \"Chiang Mai travel places and reviews\"}\n",
    "        )\n",
    "        print(f\"Created new collection: {collection_name}\")\n",
    "\n",
    "except Exception as e:\n",
    "    print(f\"Error with collection: {str(e)}\")"
   ]
  },
  {
   "cell_type": "code",
   "execution_count": 146,
   "id": "a8f1a100",
   "metadata": {},
   "outputs": [
    {
     "name": "stdout",
     "output_type": "stream",
     "text": [
      "Vectorstore initialized!\n"
     ]
    }
   ],
   "source": [
    "vectorstore = Chroma(\n",
    "    client=client,\n",
    "    collection_name=collection_name,\n",
    "    embedding_function=embedding_model,\n",
    ")\n",
    "\n",
    "print(\"Vectorstore initialized!\")"
   ]
  },
  {
   "cell_type": "code",
   "execution_count": 150,
   "id": "68d8ff97",
   "metadata": {},
   "outputs": [
    {
     "name": "stdout",
     "output_type": "stream",
     "text": [
      "Adding 99 documents to ChromaDB in batches of 10...\n",
      "Added batch 1: documents 1 to 10\n",
      "Added batch 2: documents 11 to 20\n",
      "Added batch 3: documents 21 to 30\n",
      "Added batch 4: documents 31 to 40\n",
      "Added batch 5: documents 41 to 50\n",
      "Added batch 6: documents 51 to 60\n",
      "Added batch 7: documents 61 to 70\n",
      "Added batch 8: documents 71 to 80\n",
      "Added batch 9: documents 81 to 90\n",
      "Added batch 10: documents 91 to 99\n",
      "All documents have been processed!\n"
     ]
    }
   ],
   "source": [
    "batch_size = 10  # Adjust based on your needs and API limits\n",
    "\n",
    "print(f\"Adding {len(all_documents)} documents to ChromaDB in batches of {batch_size}...\")\n",
    "\n",
    "for i in range(0, len(all_documents), batch_size):\n",
    "    batch = all_documents[i:i + batch_size]\n",
    "\n",
    "    try:\n",
    "        # Add documents to vectorstore\n",
    "        vectorstore.add_documents(batch)\n",
    "        print(f\"Added batch {i//batch_size + 1}: documents {i+1} to {min(i+batch_size, len(all_documents))}\")\n",
    "\n",
    "    except Exception as e:\n",
    "        print(f\"Error adding batch {i//batch_size + 1}: {str(e)}\")\n",
    "        # Continue with next batch\n",
    "\n",
    "print(\"All documents have been processed!\")"
   ]
  },
  {
   "cell_type": "code",
   "execution_count": 151,
   "id": "f61d9b75",
   "metadata": {},
   "outputs": [
    {
     "name": "stdout",
     "output_type": "stream",
     "text": [
      "\n",
      "Verification:\n",
      "Total documents in collection 'attraction': 284\n",
      "\n",
      "Test search for 'ร้านอาหารในเชียงใหม่':\n",
      "1. เพลินฤดี ไนท์ มาร์เก็ต (เพลินฤดี)\n",
      "   Content: ชื่อ: เพลินฤดี ไนท์ มาร์เก็ต (เพลินฤดี)\n",
      "ที่อยู่: 45 ถนนอัษฎาธร ต.ป่าตัน เชียงใหม่ (ตรงข้ามจริงใจมาร์...\n",
      "   Rating: 3.6\n",
      "\n",
      "2. เพลินฤดี ไนท์ มาร์เก็ต (เพลินฤดี)\n",
      "   Content: ชื่อ: เพลินฤดี ไนท์ มาร์เก็ต (เพลินฤดี)\n",
      "ที่อยู่: 45 ถนนอัษฎาธร ต.ป่าตัน เชียงใหม่ (ตรงข้ามจริงใจมาร์...\n",
      "   Rating: 3.6\n",
      "\n",
      "3. ตลาดต้นลำไย\n",
      "   Content: ชื่อ: ตลาดต้นลำไย\n",
      "ที่อยู่: 90 ถนน วิชยานนท์ เชียงใหม่ (กาดต้นลำไยตั้งอยู่ตรงข้ามกาดหลวงทางฝั่งถนนวิช...\n",
      "   Rating: 3.5\n",
      "\n"
     ]
    }
   ],
   "source": [
    "try:\n",
    "    collection_info = client.get_collection(collection_name)\n",
    "    total_count = collection_info.count()\n",
    "    print(f\"\\nVerification:\")\n",
    "    print(f\"Total documents in collection '{collection_name}': {total_count}\")\n",
    "\n",
    "    # Test similarity search\n",
    "    if total_count > 0:\n",
    "        test_query = \"ร้านอาหารในเชียงใหม่\"\n",
    "        results = vectorstore.similarity_search(test_query, k=3)\n",
    "\n",
    "        print(f\"\\nTest search for '{test_query}':\")\n",
    "        for i, doc in enumerate(results, 1):\n",
    "            print(f\"{i}. {doc.metadata.get('name', 'Unknown')}\")\n",
    "            print(f\"   Content: {doc.page_content[:100]}...\")\n",
    "            print(f\"   Rating: {doc.metadata.get('rating', 'N/A')}\")\n",
    "            print()\n",
    "\n",
    "except Exception as e:\n",
    "    print(f\"Error during verification: {str(e)}\")"
   ]
  },
  {
   "cell_type": "markdown",
   "id": "389eefc5",
   "metadata": {},
   "source": [
    "# Test Retrieval "
   ]
  },
  {
   "cell_type": "code",
   "execution_count": 134,
   "id": "8a10dcbb",
   "metadata": {},
   "outputs": [],
   "source": [
    "def search_similar_places(query, k=5):\n",
    "    \"\"\"\n",
    "    Search for similar places based on query\n",
    "    \"\"\"\n",
    "    try:\n",
    "        results = vectorstore.similarity_search(query, k=k)\n",
    "\n",
    "        print(f\"Search results for: '{query}'\")\n",
    "        print(\"-\" * 50)\n",
    "\n",
    "        for i, doc in enumerate(results, 1):\n",
    "            print(f\"{i}. {doc.metadata.get('name', 'Unknown')}\")\n",
    "            print(f\"   Address: {doc.metadata.get('address', 'N/A')}\")\n",
    "            print(f\"   Rating: {doc.metadata.get('rating', 'N/A')}\")\n",
    "            print(f\"   Hours: {doc.metadata.get('opening_hours', 'N/A')}\")\n",
    "            print(f\"   Content: {doc.page_content[:150]}...\")\n",
    "            print()\n",
    "\n",
    "        return results\n",
    "\n",
    "    except Exception as e:\n",
    "        print(f\"Error during search: {str(e)}\")\n",
    "        return []"
   ]
  },
  {
   "cell_type": "code",
   "execution_count": 135,
   "id": "d06160a0",
   "metadata": {},
   "outputs": [],
   "source": [
    "def search_with_score(query, k=5):\n",
    "    \"\"\"\n",
    "    Search with similarity scores\n",
    "    \"\"\"\n",
    "    try:\n",
    "        results = vectorstore.similarity_search_with_score(query, k=k)\n",
    "\n",
    "        print(f\"Search results with scores for: '{query}'\")\n",
    "        print(\"-\" * 50)\n",
    "\n",
    "        for i, (doc, score) in enumerate(results, 1):\n",
    "            print(f\"{i}. {doc.metadata.get('name', 'Unknown')} (Score: {score:.4f})\")\n",
    "            print(f\"   Content: {doc.page_content[:100]}...\")\n",
    "            print()\n",
    "\n",
    "        return results\n",
    "\n",
    "    except Exception as e:\n",
    "        print(f\"Error during scored search: {str(e)}\")\n",
    "        return []"
   ]
  },
  {
   "cell_type": "code",
   "execution_count": 136,
   "id": "2196e16b",
   "metadata": {},
   "outputs": [
    {
     "name": "stdout",
     "output_type": "stream",
     "text": [
      "Search results for: 'ร้านอาหารเชียงใหม่'\n",
      "--------------------------------------------------\n",
      "1. เขยเจียงใหม่ อาหารเหนือ (ร้านอาหารเชียงใหม่)สาขาสันติธรรม\n",
      "   Address: 14 ถ.สันติธรรม ต.ช้างเผือก อ.เมือง จ.เชียงใหม่ 50300 เชียงใหม่ (อยู่ใกล้เมาทะเล ติดกับ Sunshine House)\n",
      "   Rating: 4\n",
      "   Hours: 11:00 - 22:00\n",
      "   Content: ชื่อ: เขยเจียงใหม่ อาหารเหนือ (ร้านอาหารเชียงใหม่)สาขาสันติธรรม\n",
      "ที่อยู่: 14 ถ.สันติธรรม ต.ช้างเผือก อ.เมือง จ.เชียงใหม่ 50300 เชียงใหม่ (อยู่ใกล้เมาทะ...\n",
      "\n",
      "2. ภัตตาคารเจี่ยท้งเฮง (Jia Tong Heng Restaurant)ศรีดอนไชย\n",
      "   Address: 193/2-3 ถ.ศรีดอนไชย เชียงใหม่ (ร้านอยู่ริมถนนเยื้องกับทางออกโรงแรมเชียงใหม่พลาซ่า ข้างวัดศรีดอนไชย)\n",
      "   Rating: 4.2\n",
      "   Hours: ปิดอยู่จะเปิดในเวลา 10:30\n",
      "   Content: ชื่อ: ภัตตาคารเจี่ยท้งเฮง (Jia Tong Heng Restaurant)ศรีดอนไชย\n",
      "ที่อยู่: 193/2-3 ถ.ศรีดอนไชย เชียงใหม่ (ร้านอยู่ริมถนนเยื้องกับทางออกโรงแรมเชียงใหม่พลาซ...\n",
      "\n",
      "3. ก๋วยเตี่ยวเก่ง-กิ๊ฟ บ้านน้อยซอยลึกสาขา1\n",
      "   Address: 73\\2หมู่3ต.แม่เหียะอ.เมืองจ.เชียงใหม่50100 เชียงใหม่\n",
      "   Rating: 4.0\n",
      "   Hours: ทุกวัน: 07:30 - 22:00\n",
      "   Content: ชื่อ: ก๋วยเตี่ยวเก่ง-กิ๊ฟ บ้านน้อยซอยลึกสาขา1\n",
      "ที่อยู่: 73\\2หมู่3ต.แม่เหียะอ.เมืองจ.เชียงใหม่50100 เชียงใหม่\n",
      "เวลาเปิด-ปิด: ทุกวัน: 07:30 - 22:00\n",
      "คะแนนร...\n",
      "\n"
     ]
    },
    {
     "data": {
      "text/plain": [
       "[Document(id='82fd8fce-c6c5-49e4-adc1-bc55e39e0ef7', metadata={'rating': '4', 'name': 'เขยเจียงใหม่ อาหารเหนือ (ร้านอาหารเชียงใหม่)สาขาสันติธรรม', 'source': '/Users/ploy/Programming/thesis/data/json-scrape/resturant/เขยเจียงใหม่_อาหารเหนือ_(ร้านอาหารเชียงใหม่)สาขาสันติธรรม.json', 'address': '14 ถ.สันติธรรม ต.ช้างเผือก อ.เมือง จ.เชียงใหม่ 50300 เชียงใหม่ (อยู่ใกล้เมาทะเล ติดกับ Sunshine House)', 'opening_hours': '11:00 - 22:00'}, page_content='ชื่อ: เขยเจียงใหม่ อาหารเหนือ (ร้านอาหารเชียงใหม่)สาขาสันติธรรม\\nที่อยู่: 14 ถ.สันติธรรม ต.ช้างเผือก อ.เมือง จ.เชียงใหม่ 50300 เชียงใหม่ (อยู่ใกล้เมาทะเล ติดกับ Sunshine House)\\nเวลาเปิด-ปิด: 11:00 - 22:00\\nคะแนนรีวิว: 4\\nรีวิว: นักท่องเที่ยงทั้งคนไทยคนต่างชาติที่เชียงใหม่น้อยลงอย่างน่าใจหาย เป็นมาได้สักพัก ไม่ใช่เฉพาะช่วงนี้ และที่ร้านเขยเจียงใหม่ ในย่านสันติธรรม ก็เช่นกัน\\n\\nเขยเจียงใหม่ เป็นร้านอาหารเหนือที่เราแอบตั้งคำถาม คิดว่าทางร้านเข้าใจสรรหาเมนูที่ชื่อค่อนข้างพิศดารชวนว้าว ให้คนคิดอยากลอง แต่สำหรับรสชาติเรามองว่าไม่ได้เป็นไปทางใดทางหนึ่ง จะรสชาติแบบคนพื้นเมืองก็ไม่ใช่ จะแนวเพื่อสุขภาพเน้นความออร์แกน... อ่านต่อ'),\n",
       " Document(id='5343510a-0d23-44df-8058-b61d1c15c11d', metadata={'rating': '4.2', 'opening_hours': 'ปิดอยู่จะเปิดในเวลา 10:30', 'name': 'ภัตตาคารเจี่ยท้งเฮง (Jia Tong Heng Restaurant)ศรีดอนไชย', 'address': '193/2-3 ถ.ศรีดอนไชย เชียงใหม่ (ร้านอยู่ริมถนนเยื้องกับทางออกโรงแรมเชียงใหม่พลาซ่า ข้างวัดศรีดอนไชย)', 'source': '/Users/ploy/Programming/thesis/data/json-scrape/resturant/ภัตตาคารเจี่ยท้งเฮง_(Jia_Tong_Heng_Restaurant)ศรีดอนไชย.json'}, page_content='ชื่อ: ภัตตาคารเจี่ยท้งเฮง (Jia Tong Heng Restaurant)ศรีดอนไชย\\nที่อยู่: 193/2-3 ถ.ศรีดอนไชย เชียงใหม่ (ร้านอยู่ริมถนนเยื้องกับทางออกโรงแรมเชียงใหม่พลาซ่า ข้างวัดศรีดอนไชย)\\nเวลาเปิด-ปิด: ปิดอยู่จะเปิดในเวลา 10:30\\nคะแนนรีวิว: 4.2\\nรีวิว: ร้านอาหารจีนคู่เมืองเชียงใหม่มายาวนาน สาขาต้นตำรับก็จะคลาสสิคๆกว่า นิยมร้านคลาสสิคต้นตำรับ ต้องมาที่นี่เลย จอดรถได้พอควร\\n\\nราคาต่อหัว: 101 - 250 บาทเมนูเด็ด: เป็ดอร่อย\\n\\nวันนี้ไปทานกันสามคนค่ะ\\n\\nเมนูที่สั่ง\\n\\nมะระซำเซียน รู้สึกคล้ายๆเมนูต้มมะระผักกาดดองช่วงเจ แต่มีหมูสามชั้น ก็อร่อยดีค่ะ บ้านเราเป็นพวกชอบกินเมนูมะระด้วย\\n\\nกระเพาะปลา น้ำซุปรสชาติดีค่ะ แต่รู้สึกส่วนกระเพาะปลาจะกระด้างๆ สากๆนิดนึง แต่ก็ถือว่าโอเคค่ะ ซื้อไปฝากแม่ที่ รพ. อีกถุง\\n\\nเป็ดอร่อย เมนูนี้เป็นเป็ดพะโล้ไปทอด ออกมาหอมดีค่ะ\\n\\nผัดซาโยเต้ ผัดผักผัดมาดีค่ะ หอมกระเทียม\\n\\nคิดเงินมา ราคาดี แปดร้อยกว่าบาทค่... [อ่านต่อ](https://www.wongnai.com/reviews/791787f13c344c36af2b5e7ffe6309e2)'),\n",
       " Document(id='6bd9c0d4-4035-49a9-abc0-97400be03cdb', metadata={'name': 'ก๋วยเตี่ยวเก่ง-กิ๊ฟ บ้านน้อยซอยลึกสาขา1', 'source': '/Users/ploy/Programming/thesis/data/json-scrape/resturant/ก๋วยเตี่ยวเก่ง-กิ๊ฟ_บ้านน้อยซอยลึกสาขา1.json', 'address': '73\\\\2หมู่3ต.แม่เหียะอ.เมืองจ.เชียงใหม่50100 เชียงใหม่', 'opening_hours': 'ทุกวัน: 07:30 - 22:00', 'rating': '4.0'}, page_content='ชื่อ: ก๋วยเตี่ยวเก่ง-กิ๊ฟ บ้านน้อยซอยลึกสาขา1\\nที่อยู่: 73\\\\2หมู่3ต.แม่เหียะอ.เมืองจ.เชียงใหม่50100 เชียงใหม่\\nเวลาเปิด-ปิด: ทุกวัน: 07:30 - 22:00\\nคะแนนรีวิว: 4.0\\nรีวิว: ร้านให้เยอะมากไม่หวงเครื่อง สั่งมา 2 ชาม บอกเลยกินไม่หมด 5555\\n\\nร้านนี้ชอบตรงที่ไม่หวงเครื่อง อย่างหมูสับหรือไส้ ตักมาใส่ชามจนเต็ม\\n\\nก็เป็นร้านหนึ่งที่ถูกและให้เยอะมาก ส่วนตัวคิดว่าน้ำซุปติดหวานๆอย่างเดียวยังไม่ค่อยกลมกล่อม คิดว่าถ้าสั่งแห้งจะเข้ากว่า [ดูเพิ่มเติม](https://www.wongnai.com/reviews/13050f9324ed446ba5445dcad8a5b9c1)')]"
      ]
     },
     "execution_count": 136,
     "metadata": {},
     "output_type": "execute_result"
    }
   ],
   "source": [
    "search_similar_places(\"ร้านอาหารเชียงใหม่\", k=3)"
   ]
  },
  {
   "cell_type": "code",
   "execution_count": 137,
   "id": "691cf699",
   "metadata": {},
   "outputs": [
    {
     "name": "stdout",
     "output_type": "stream",
     "text": [
      "Search results with scores for: 'ร้านอาหารเหนือ'\n",
      "--------------------------------------------------\n",
      "1. Mix Beef Club & Restaurant (มิกซ์บีฟคลับแอนด์เรสเตอร์รอง)นิมมานเหมินท์ ซอย 1 (Score: 0.7810)\n",
      "   Content: ชื่อ: Mix Beef Club & Restaurant (มิกซ์บีฟคลับแอนด์เรสเตอร์รอง)นิมมานเหมินท์ ซอย 1\n",
      "ที่อยู่: 36 ถนน น...\n",
      "\n",
      "2. Baan Landai Fine Thai Cuisine (บ้านลันได) (Score: 0.7837)\n",
      "   Content: ชื่อ: Baan Landai Fine Thai Cuisine (บ้านลันได)\n",
      "ที่อยู่: 252/13-14 Prapokklao Rd ถนน ศรีภูมิ อำเภอเม...\n",
      "\n",
      "3. เขยเจียงใหม่ อาหารเหนือ (ร้านอาหารเชียงใหม่)สาขาสันติธรรม (Score: 0.8165)\n",
      "   Content: ชื่อ: เขยเจียงใหม่ อาหารเหนือ (ร้านอาหารเชียงใหม่)สาขาสันติธรรม\n",
      "ที่อยู่: 14 ถ.สันติธรรม ต.ช้างเผือก ...\n",
      "\n",
      "4. ร้าน เนื้อกระทะมุสลิม (Muslim Beef Grill) (Score: 0.8374)\n",
      "   Content: ชื่อ: ร้าน เนื้อกระทะมุสลิม (Muslim Beef Grill)\n",
      "ที่อยู่: 380, Thanon Charoen Muang, เชียงใหม่ (ที่เด...\n",
      "\n",
      "5. Makad Rooftop Cafe มากาด ดาดฟ้า คาดฟ่ - ช้างม่อย (Score: 0.8799)\n",
      "   Content: ชื่อ: Makad Rooftop Cafe มากาด ดาดฟ้า คาดฟ่ - ช้างม่อย\n",
      "ที่อยู่: 3 ชั้น2 ตลาดวโรรส, - ช้างม่อย เมืองเ...\n",
      "\n"
     ]
    },
    {
     "data": {
      "text/plain": [
       "[(Document(id='80bbcd90-0aed-41f6-9025-cc5f61d6a459', metadata={'opening_hours': 'ปิดอยู่จะเปิดในเวลา 11:00', 'source': '/Users/ploy/Programming/thesis/data/json-scrape/resturant/Mix_Beef_Club_&_Restaurant_(มิกซ์บีฟคลับแอนด์เรสเตอร์รอง)นิมมานเหมินท์_ซอย_1.json', 'address': '36 ถนน นิมมานเหมินท์ ซอย 1 เชียงใหม่ (สุดซอยนิมมานเหมินทร์ซอย 1)', 'rating': '4.2', 'name': 'Mix Beef Club & Restaurant (มิกซ์บีฟคลับแอนด์เรสเตอร์รอง)นิมมานเหมินท์ ซอย 1'}, page_content='ชื่อ: Mix Beef Club & Restaurant (มิกซ์บีฟคลับแอนด์เรสเตอร์รอง)นิมมานเหมินท์ ซอย 1\\nที่อยู่: 36 ถนน นิมมานเหมินท์ ซอย 1 เชียงใหม่ (สุดซอยนิมมานเหมินทร์ซอย 1)\\nเวลาเปิด-ปิด: ปิดอยู่จะเปิดในเวลา 11:00\\nคะแนนรีวิว: 4.2\\nรีวิว: ร้านตั้งอยู่\\u200bด้านในสุดของนิมมานเหมินท์\\u200b ซอย 1 มีชื่อเรื่องเมนู\\u200bเนื้อวัวและไวน์\\u200b จำหน่าย\\u200bเมนู\\u200bอาหาร\\u200bไทย ฝรั่ง และ fusion มีที่นั่งทั้ง\\u200bแบบ\\u200b และ\\u200b จำนวนมากพอสมควร\\u200b เมนู\\u200bเนื้อที่สั่งนุ่มใช้ได้ ไวน์มีให้เลือกหลากหลาย\\u200bและดีสมคำร่ำลือ ขนมเป็น\\u200bอีกรายการหนึ่งที่ขึ้นชื่อ ทั้งเรื่องชื่อ ความแปลกของส่วนผสม และการนำเสนอ ราคาค่อนสูงแต่ก็สมเหตุสมผล'),\n",
       "  0.78102255),\n",
       " (Document(id='9e9c612e-0a72-48cc-b872-89b9dafefa66', metadata={'address': '252/13-14 Prapokklao Rd ถนน ศรีภูมิ อำเภอเมืองเชียงใหม่ เชียงใหม่ (เลยร้านอ๋อง ติดกับโรงแรมวิสต้า)', 'name': 'Baan Landai Fine Thai Cuisine (บ้านลันได)', 'rating': '4.5', 'opening_hours': ' เวลาเปิดร้าน อังคาร - อาทิตย์ 11:00 - 15:00 และ 17:00 - 22:00', 'source': '/Users/ploy/Programming/thesis/data/json-scrape/resturant/Baan_Landai_Fine_Thai_Cuisine_(บ้านลันได).json'}, page_content='ชื่อ: Baan Landai Fine Thai Cuisine (บ้านลันได)\\nที่อยู่: 252/13-14 Prapokklao Rd ถนน ศรีภูมิ อำเภอเมืองเชียงใหม่ เชียงใหม่ (เลยร้านอ๋อง ติดกับโรงแรมวิสต้า)\\nเวลาเปิด-ปิด:  เวลาเปิดร้าน อังคาร - อาทิตย์ 11:00 - 15:00 และ 17:00 - 22:00\\nคะแนนรีวิว: 4.5\\nรีวิว: ร้านอาหารไทยฟิวชั่น หนึ่งในร้านแนะนำจากมิชลินไกด์\\n\\nร้านตั้งอยู่ที่ถนนพระปกเกล้า ใกล้ประตูช้างเผือก\\nบรรยากาศร้านสวยงาม ฟีลไม้ๆ จำนวนโต๊ะไม่เยอะ แนะนำให้โทรจองก่อน มีที่นั่งด้านในและด้านนอก\\n\\nการบริการ: โดยรวมโอเค แต่รู้สึกติดอยู่นิดนึงคือพนักงานผู้หญิงคนหนึ่งยกข้าวมาเสิร์ฟ เราขอให้เค้าตักให้ผู้ใหญ่ที่เราพาไปด้วย เค้าตอบว่าที่นี่ไม่ตักข้าวให้ มันค่อนข้างแปลกมาก ทำให้ไม่ประทับใจเลย\\n\\nความเร็ว: อาหารออกเร็วดี ไม่ต้องรอนานมาก\\n\\nรสชาติ: อร่อยหลายเมนู ว...'),\n",
       "  0.78370214),\n",
       " (Document(id='82fd8fce-c6c5-49e4-adc1-bc55e39e0ef7', metadata={'rating': '4', 'name': 'เขยเจียงใหม่ อาหารเหนือ (ร้านอาหารเชียงใหม่)สาขาสันติธรรม', 'opening_hours': '11:00 - 22:00', 'address': '14 ถ.สันติธรรม ต.ช้างเผือก อ.เมือง จ.เชียงใหม่ 50300 เชียงใหม่ (อยู่ใกล้เมาทะเล ติดกับ Sunshine House)', 'source': '/Users/ploy/Programming/thesis/data/json-scrape/resturant/เขยเจียงใหม่_อาหารเหนือ_(ร้านอาหารเชียงใหม่)สาขาสันติธรรม.json'}, page_content='ชื่อ: เขยเจียงใหม่ อาหารเหนือ (ร้านอาหารเชียงใหม่)สาขาสันติธรรม\\nที่อยู่: 14 ถ.สันติธรรม ต.ช้างเผือก อ.เมือง จ.เชียงใหม่ 50300 เชียงใหม่ (อยู่ใกล้เมาทะเล ติดกับ Sunshine House)\\nเวลาเปิด-ปิด: 11:00 - 22:00\\nคะแนนรีวิว: 4\\nรีวิว: นักท่องเที่ยงทั้งคนไทยคนต่างชาติที่เชียงใหม่น้อยลงอย่างน่าใจหาย เป็นมาได้สักพัก ไม่ใช่เฉพาะช่วงนี้ และที่ร้านเขยเจียงใหม่ ในย่านสันติธรรม ก็เช่นกัน\\n\\nเขยเจียงใหม่ เป็นร้านอาหารเหนือที่เราแอบตั้งคำถาม คิดว่าทางร้านเข้าใจสรรหาเมนูที่ชื่อค่อนข้างพิศดารชวนว้าว ให้คนคิดอยากลอง แต่สำหรับรสชาติเรามองว่าไม่ได้เป็นไปทางใดทางหนึ่ง จะรสชาติแบบคนพื้นเมืองก็ไม่ใช่ จะแนวเพื่อสุขภาพเน้นความออร์แกน... อ่านต่อ'),\n",
       "  0.816525),\n",
       " (Document(id='49050452-3747-4ede-8bea-4309e64b91ae', metadata={'name': 'ร้าน เนื้อกระทะมุสลิม (Muslim Beef Grill)', 'rating': '4.1', 'source': '/Users/ploy/Programming/thesis/data/json-scrape/resturant/ร้าน_เนื้อกระทะมุสลิม_(Muslim_Beef_Grill).json', 'address': '380, Thanon Charoen Muang, เชียงใหม่ (ที่เดียวกับข้าวมันไก่ไปรษณีย์ ข้าวมันไก่เปิดกลางวัน ร้านนี้จะเปิด5โมงเย็น)', 'opening_hours': 'ปิดอยู่จะเปิดในวันพฤหัสบดี เวลา 17:00'}, page_content='ชื่อ: ร้าน เนื้อกระทะมุสลิม (Muslim Beef Grill)\\nที่อยู่: 380, Thanon Charoen Muang, เชียงใหม่ (ที่เดียวกับข้าวมันไก่ไปรษณีย์ ข้าวมันไก่เปิดกลางวัน ร้านนี้จะเปิด5โมงเย็น)\\nเวลาเปิด-ปิด: ปิดอยู่จะเปิดในวันพฤหัสบดี เวลา 17:00\\nคะแนนรีวิว: 4.1\\nรีวิว: ร้านเป็นเนื้อกระทะที่อร่อยมาก อร่อยมากจริง ๆ ถูกใจ ไปลองกินก็คิดว่าก็คงทั่ว ๆ ไป แต่พอได้กินแล้วมันก็เกินที่หวังอยู่ กินกับน้ำจิ้มสีเหลืองที่ร้านให้มาเข้ากันมาก ๆ และราคาแต่ละจานก็ไม่ได้แพงเลย เนื้อมีให้เลือกหลายส่วน แต่ไม่ได้มีให้เลือกเยอะมาก ร้านไม่ใหญ่มาก มีโต๊ะไม่เยอะ และหากเป็นวันหยุดอาจจะต้องรอคิวนานนิดหน่อย และไม่ใช่ร้านแอร์'),\n",
       "  0.8373782),\n",
       " (Document(id='4cebc277-788d-491a-ab9a-8b643334f9af', metadata={'address': '3 ชั้น2 ตลาดวโรรส, - ช้างม่อย เมืองเชียงใหม่ เชียงใหม่ เชียงใหม่ (ร้านมากาด คาเฟ่)', 'rating': '3.8', 'source': '/Users/ploy/Programming/thesis/data/json-scrape/resturant/Makad_Rooftop_Cafe_มากาด_ดาดฟ้า_คาดฟ่_-_ช้างม่อย.json', 'opening_hours': 'เปิดอยู่จนถึง 23:59', 'name': 'Makad Rooftop Cafe มากาด ดาดฟ้า คาดฟ่ - ช้างม่อย'}, page_content='ชื่อ: Makad Rooftop Cafe มากาด ดาดฟ้า คาดฟ่ - ช้างม่อย\\nที่อยู่: 3 ชั้น2 ตลาดวโรรส, - ช้างม่อย เมืองเชียงใหม่ เชียงใหม่ เชียงใหม่ (ร้านมากาด คาเฟ่)\\nเวลาเปิด-ปิด: เปิดอยู่จนถึง 23:59\\nคะแนนรีวิว: 3.8\\nรีวิว: จริงๆ ก็มาเดินกาดหลวงบ่อยมาก ผ่านไปผ่านมาตั้งแต่ร้านเปิดใหม่ๆอจนตอนนี้เพิ่งจะมีโอกาสได้มา คนก็ยังเยอะอยู่\\n\\nก็เป็นคาเฟ่ทั่วไปมีขนม และเครื่องดื่มไว้บริการรสชาติดีตามมาตรฐาน ราคาไม่แพง ร้านมีชั้นดาดฟ้าด้วย ถ้าใครอยากไปถ่ายรูปก็สามารถขึ้นไปถ่ายรูปเล่นที่ชั้นดาดฟ้าได้'),\n",
       "  0.8798876)]"
      ]
     },
     "execution_count": 137,
     "metadata": {},
     "output_type": "execute_result"
    }
   ],
   "source": [
    "search_with_score(\"ร้านอาหารเหนือ\", k=5)"
   ]
  },
  {
   "cell_type": "code",
   "execution_count": null,
   "id": "78ec584a",
   "metadata": {},
   "outputs": [],
   "source": []
  }
 ],
 "metadata": {
  "kernelspec": {
   "display_name": "venv",
   "language": "python",
   "name": "python3"
  },
  "language_info": {
   "codemirror_mode": {
    "name": "ipython",
    "version": 3
   },
   "file_extension": ".py",
   "mimetype": "text/x-python",
   "name": "python",
   "nbconvert_exporter": "python",
   "pygments_lexer": "ipython3",
   "version": "3.12.0"
  }
 },
 "nbformat": 4,
 "nbformat_minor": 5
}
