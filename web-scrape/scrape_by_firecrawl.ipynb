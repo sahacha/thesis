{
 "cells": [
  {
   "cell_type": "code",
   "execution_count": 3,
   "id": "c64c8fac",
   "metadata": {},
   "outputs": [
    {
     "name": "stdout",
     "output_type": "stream",
     "text": [
      "Requirement already satisfied: firecrawl-py in /Users/ploy/Programming/thesis/venv/lib/python3.12/site-packages (3.3.2)\n",
      "Requirement already satisfied: requests in /Users/ploy/Programming/thesis/venv/lib/python3.12/site-packages (from firecrawl-py) (2.32.5)\n",
      "Requirement already satisfied: httpx in /Users/ploy/Programming/thesis/venv/lib/python3.12/site-packages (from firecrawl-py) (0.28.1)\n",
      "Requirement already satisfied: python-dotenv in /Users/ploy/Programming/thesis/venv/lib/python3.12/site-packages (from firecrawl-py) (1.1.1)\n",
      "Requirement already satisfied: websockets in /Users/ploy/Programming/thesis/venv/lib/python3.12/site-packages (from firecrawl-py) (15.0.1)\n",
      "Requirement already satisfied: nest-asyncio in /Users/ploy/Programming/thesis/venv/lib/python3.12/site-packages (from firecrawl-py) (1.6.0)\n",
      "Requirement already satisfied: pydantic>=2.0 in /Users/ploy/Programming/thesis/venv/lib/python3.12/site-packages (from firecrawl-py) (2.11.7)\n",
      "Requirement already satisfied: aiohttp in /Users/ploy/Programming/thesis/venv/lib/python3.12/site-packages (from firecrawl-py) (3.12.15)\n",
      "Requirement already satisfied: annotated-types>=0.6.0 in /Users/ploy/Programming/thesis/venv/lib/python3.12/site-packages (from pydantic>=2.0->firecrawl-py) (0.7.0)\n",
      "Requirement already satisfied: pydantic-core==2.33.2 in /Users/ploy/Programming/thesis/venv/lib/python3.12/site-packages (from pydantic>=2.0->firecrawl-py) (2.33.2)\n",
      "Requirement already satisfied: typing-extensions>=4.12.2 in /Users/ploy/Programming/thesis/venv/lib/python3.12/site-packages (from pydantic>=2.0->firecrawl-py) (4.14.1)\n",
      "Requirement already satisfied: typing-inspection>=0.4.0 in /Users/ploy/Programming/thesis/venv/lib/python3.12/site-packages (from pydantic>=2.0->firecrawl-py) (0.4.1)\n",
      "Requirement already satisfied: aiohappyeyeballs>=2.5.0 in /Users/ploy/Programming/thesis/venv/lib/python3.12/site-packages (from aiohttp->firecrawl-py) (2.6.1)\n",
      "Requirement already satisfied: aiosignal>=1.4.0 in /Users/ploy/Programming/thesis/venv/lib/python3.12/site-packages (from aiohttp->firecrawl-py) (1.4.0)\n",
      "Requirement already satisfied: attrs>=17.3.0 in /Users/ploy/Programming/thesis/venv/lib/python3.12/site-packages (from aiohttp->firecrawl-py) (25.3.0)\n",
      "Requirement already satisfied: frozenlist>=1.1.1 in /Users/ploy/Programming/thesis/venv/lib/python3.12/site-packages (from aiohttp->firecrawl-py) (1.7.0)\n",
      "Requirement already satisfied: multidict<7.0,>=4.5 in /Users/ploy/Programming/thesis/venv/lib/python3.12/site-packages (from aiohttp->firecrawl-py) (6.6.4)\n",
      "Requirement already satisfied: propcache>=0.2.0 in /Users/ploy/Programming/thesis/venv/lib/python3.12/site-packages (from aiohttp->firecrawl-py) (0.3.2)\n",
      "Requirement already satisfied: yarl<2.0,>=1.17.0 in /Users/ploy/Programming/thesis/venv/lib/python3.12/site-packages (from aiohttp->firecrawl-py) (1.20.1)\n",
      "Requirement already satisfied: idna>=2.0 in /Users/ploy/Programming/thesis/venv/lib/python3.12/site-packages (from yarl<2.0,>=1.17.0->aiohttp->firecrawl-py) (3.10)\n",
      "Requirement already satisfied: anyio in /Users/ploy/Programming/thesis/venv/lib/python3.12/site-packages (from httpx->firecrawl-py) (4.10.0)\n",
      "Requirement already satisfied: certifi in /Users/ploy/Programming/thesis/venv/lib/python3.12/site-packages (from httpx->firecrawl-py) (2025.8.3)\n",
      "Requirement already satisfied: httpcore==1.* in /Users/ploy/Programming/thesis/venv/lib/python3.12/site-packages (from httpx->firecrawl-py) (1.0.9)\n",
      "Requirement already satisfied: h11>=0.16 in /Users/ploy/Programming/thesis/venv/lib/python3.12/site-packages (from httpcore==1.*->httpx->firecrawl-py) (0.16.0)\n",
      "Requirement already satisfied: sniffio>=1.1 in /Users/ploy/Programming/thesis/venv/lib/python3.12/site-packages (from anyio->httpx->firecrawl-py) (1.3.1)\n",
      "Requirement already satisfied: charset_normalizer<4,>=2 in /Users/ploy/Programming/thesis/venv/lib/python3.12/site-packages (from requests->firecrawl-py) (3.4.3)\n",
      "Requirement already satisfied: urllib3<3,>=1.21.1 in /Users/ploy/Programming/thesis/venv/lib/python3.12/site-packages (from requests->firecrawl-py) (2.5.0)\n",
      "Note: you may need to restart the kernel to use updated packages.\n"
     ]
    }
   ],
   "source": [
    "%pip install firecrawl-py"
   ]
  },
  {
   "cell_type": "code",
   "execution_count": null,
   "id": "e18743ba",
   "metadata": {},
   "outputs": [],
   "source": [
    "import json\n",
    "with open('/Users/ploy/Programming/thesis/data/docs/restaurant_url.json', 'r') as file:\n",
    "\turl = json.load(file)\n",
    "print(url)"
   ]
  },
  {
   "cell_type": "code",
   "execution_count": 19,
   "id": "aa26d17e",
   "metadata": {},
   "outputs": [],
   "source": [
    "# f = open('/Users/ploy/Programming/thesis/data/docs/restaurant_url.json')\n",
    "# data = json.load(f)\n",
    "\n",
    "# # Iterating through the json list\n",
    "# for i in data['Url_restaurants']:\n",
    "#     print(i)\n",
    "# #\n",
    "# # Closing file\n",
    "# f.close()"
   ]
  },
  {
   "cell_type": "code",
   "execution_count": null,
   "id": "95ccf4bc",
   "metadata": {},
   "outputs": [],
   "source": [
    "from firecrawl import FirecrawlApp\n",
    "from pydantic import BaseModel, Field\n",
    "from dotenv import load_dotenv\n",
    "import os\n",
    "\n",
    "# Load environment variables from .env file\n",
    "load_dotenv()\n",
    "\n",
    "# Initialize FirecrawlApp with the API key from .env\n",
    "app = FirecrawlApp(api_key=os.getenv(\"FIRECRAWL_API_KEY\"))\n",
    "\n",
    "\n",
    "# Define schema to extract contents into\n",
    "class JsonSchema(BaseModel):\n",
    "\t\tname: str\n",
    "    Comment_review: str\n",
    "    Review_rating: str\n",
    "    address: str\n",
    "\t\tstore_opening_and_closing: str\n",
    "\n",
    "\n",
    "response = app.scrape_url([\n",
    "\turl,\n",
    "\tformats=[{\n",
    "      \"type\": \"json\",\n",
    "      \"schema\": JsonSchema\n",
    "    }],\n",
    "\t\tonly_main_content=False,\n",
    "    timeout=120000\n",
    "])\n",
    "\n",
    "# Print the response\n",
    "print(response)"
   ]
  }
 ],
 "metadata": {
  "kernelspec": {
   "display_name": "venv",
   "language": "python",
   "name": "python3"
  },
  "language_info": {
   "codemirror_mode": {
    "name": "ipython",
    "version": 3
   },
   "file_extension": ".py",
   "mimetype": "text/x-python",
   "name": "python",
   "nbconvert_exporter": "python",
   "pygments_lexer": "ipython3",
   "version": "3.12.0"
  }
 },
 "nbformat": 4,
 "nbformat_minor": 5
}
