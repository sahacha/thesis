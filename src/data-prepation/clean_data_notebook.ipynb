{
 "cells": [
  {
   "cell_type": "code",
   "execution_count": null,
   "id": "df780018",
   "metadata": {},
   "outputs": [],
   "source": [
    "import re\n",
    "\n",
    "def clean_text(text):\n",
    "    # ลบ Markdown link [text](url)\n",
    "    # text = re.sub(r'\\[.*?\\]\\(.*?\\)', '', text)\n",
    "    # ลบ Markdown bold/italic **text** หรือ *text*\n",
    "    # text = re.sub(r'\\*\\*([^*]+)\\*\\*', r'\\1', text)\n",
    "    # text = re.sub(r'\\*([^*]+)\\*', r'\\1', text)\n",
    "    # ลบลิงก์ URL\n",
    "    # text = re.sub(r'http[s]?://\\S+', '', text)\n",
    "    # ลบรูปภาพ Markdown ![](url)\n",
    "    # text = re.sub(r'!\\[.*?\\]\\(.*?\\)', '', text)\n",
    "    # ลบอีโมจิ/สัญลักษณ์พิเศษ (เบื้องต้น)\n",
    "    # text = re.sub(r'[\\u2000-\\u2BFF\\U0001F300-\\U0001FAD6]+', '', text)\n",
    "    # ลบช่องว่างและบรรทัดซ้ำ\n",
    "    # text = re.sub(r'\\n+', '\\n', text)\n",
    "    # text = re.sub(r'*', ' ', text)\n",
    "    # ตัดช่องว่างหัว-ท้าย\n",
    "    text = text.strip()\n",
    "    return text\n"
   ]
  },
  {
   "cell_type": "code",
   "execution_count": 7,
   "id": "c82890cd",
   "metadata": {},
   "outputs": [],
   "source": [
    "input_path = 'c:/Users/sahac/coding/thesis/docs/index/chiang-mai.txt'\n",
    "output_path = 'c:/Users/sahac/coding/thesis/docs/index/chiang-mai_cleaned.txt'"
   ]
  },
  {
   "cell_type": "code",
   "execution_count": 8,
   "id": "600ce7c9",
   "metadata": {},
   "outputs": [
    {
     "data": {
      "text/plain": [
       "'c:/Users/sahac/coding/thesis/docs/index/chiang-mai.txt'"
      ]
     },
     "execution_count": 8,
     "metadata": {},
     "output_type": "execute_result"
    }
   ],
   "source": [
    "input_path"
   ]
  },
  {
   "cell_type": "code",
   "execution_count": null,
   "id": "f2f49d53",
   "metadata": {},
   "outputs": [],
   "source": []
  }
 ],
 "metadata": {
  "kernelspec": {
   "display_name": "env",
   "language": "python",
   "name": "python3"
  },
  "language_info": {
   "codemirror_mode": {
    "name": "ipython",
    "version": 3
   },
   "file_extension": ".py",
   "mimetype": "text/x-python",
   "name": "python",
   "nbconvert_exporter": "python",
   "pygments_lexer": "ipython3",
   "version": "3.13.3"
  }
 },
 "nbformat": 4,
 "nbformat_minor": 5
}
